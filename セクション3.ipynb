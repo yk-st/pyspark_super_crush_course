{
 "cells": [
  {
   "cell_type": "markdown",
   "metadata": {},
   "source": [
    "# 本セクションの目次\n",
    "1. ビッグデータ世界のDDL\n",
    "2. テンポラリテーブル\n",
    "3. ビッグデータ世界のSQLとは？\n",
    "4. 単純SQLを振り返ってみよう\n",
    "5. 分析関数を練習してみよう\n",
    "6. LAG/Lead関数\n",
    "7. ピボットテーブル\n",
    "8. SparkのRDDを使って1レコードつづ処理してみよう"
   ]
  },
  {
   "cell_type": "code",
   "execution_count": 1,
   "metadata": {},
   "outputs": [],
   "source": [
    "# コンソールで設定したSparkとNoteBookを接続します(動かす前に毎度実行する必要があります)\n",
    "import findspark\n",
    "findspark.init(\"/home/pyspark/spark\")"
   ]
  },
  {
   "cell_type": "code",
   "execution_count": 2,
   "metadata": {},
   "outputs": [
    {
     "name": "stderr",
     "output_type": "stream",
     "text": [
      "Warning: Ignoring non-Spark config property: hive.exec.dynamic.partition.mode\n",
      "Warning: Ignoring non-Spark config property: hive.exec.dynamic.partition\n",
      "WARNING: An illegal reflective access operation has occurred\n",
      "WARNING: Illegal reflective access by org.apache.spark.unsafe.Platform (file:/home/pyspark/spark-3.2.0-bin-hadoop3.2/jars/spark-unsafe_2.12-3.2.0.jar) to constructor java.nio.DirectByteBuffer(long,int)\n",
      "WARNING: Please consider reporting this to the maintainers of org.apache.spark.unsafe.Platform\n",
      "WARNING: Use --illegal-access=warn to enable warnings of further illegal reflective access operations\n",
      "WARNING: All illegal access operations will be denied in a future release\n"
     ]
    },
    {
     "name": "stdout",
     "output_type": "stream",
     "text": [
      ":: loading settings :: url = jar:file:/home/pyspark/spark-3.2.0-bin-hadoop3.2/jars/ivy-2.5.0.jar!/org/apache/ivy/core/settings/ivysettings.xml\n"
     ]
    },
    {
     "name": "stderr",
     "output_type": "stream",
     "text": [
      "Ivy Default Cache set to: /home/pyspark/.ivy2/cache\n",
      "The jars for the packages stored in: /home/pyspark/.ivy2/jars\n",
      "org.apache.spark#spark-streaming_2.13 added as a dependency\n",
      "org.apache.spark#spark-sql-kafka-0-10_2.12 added as a dependency\n",
      "org.apache.spark#spark-avro_2.12 added as a dependency\n",
      ":: resolving dependencies :: org.apache.spark#spark-submit-parent-d7a4ee0f-98b7-4414-8aac-31942ffc2fab;1.0\n",
      "\tconfs: [default]\n",
      "\tfound org.apache.spark#spark-sql-kafka-0-10_2.12;3.2.0 in central\n",
      "\tfound org.apache.spark#spark-token-provider-kafka-0-10_2.12;3.2.0 in central\n",
      "\tfound org.apache.kafka#kafka-clients;2.8.0 in central\n",
      "\tfound org.lz4#lz4-java;1.7.1 in central\n",
      "\tfound org.xerial.snappy#snappy-java;1.1.8.4 in central\n",
      "\tfound org.slf4j#slf4j-api;1.7.30 in central\n",
      "\tfound org.apache.hadoop#hadoop-client-runtime;3.3.1 in central\n",
      "\tfound org.spark-project.spark#unused;1.0.0 in central\n",
      "\tfound org.apache.hadoop#hadoop-client-api;3.3.1 in central\n",
      "\tfound org.apache.htrace#htrace-core4;4.1.0-incubating in central\n",
      "\tfound commons-logging#commons-logging;1.1.3 in central\n",
      "\tfound com.google.code.findbugs#jsr305;3.0.0 in central\n",
      "\tfound org.apache.commons#commons-pool2;2.6.2 in central\n",
      "\tfound org.apache.spark#spark-avro_2.12;3.2.0 in central\n",
      "\tfound org.tukaani#xz;1.8 in central\n",
      ":: resolution report :: resolve 409ms :: artifacts dl 15ms\n",
      "\t:: modules in use:\n",
      "\tcom.google.code.findbugs#jsr305;3.0.0 from central in [default]\n",
      "\tcommons-logging#commons-logging;1.1.3 from central in [default]\n",
      "\torg.apache.commons#commons-pool2;2.6.2 from central in [default]\n",
      "\torg.apache.hadoop#hadoop-client-api;3.3.1 from central in [default]\n",
      "\torg.apache.hadoop#hadoop-client-runtime;3.3.1 from central in [default]\n",
      "\torg.apache.htrace#htrace-core4;4.1.0-incubating from central in [default]\n",
      "\torg.apache.kafka#kafka-clients;2.8.0 from central in [default]\n",
      "\torg.apache.spark#spark-avro_2.12;3.2.0 from central in [default]\n",
      "\torg.apache.spark#spark-sql-kafka-0-10_2.12;3.2.0 from central in [default]\n",
      "\torg.apache.spark#spark-token-provider-kafka-0-10_2.12;3.2.0 from central in [default]\n",
      "\torg.lz4#lz4-java;1.7.1 from central in [default]\n",
      "\torg.slf4j#slf4j-api;1.7.30 from central in [default]\n",
      "\torg.spark-project.spark#unused;1.0.0 from central in [default]\n",
      "\torg.tukaani#xz;1.8 from central in [default]\n",
      "\torg.xerial.snappy#snappy-java;1.1.8.4 from central in [default]\n",
      "\t---------------------------------------------------------------------\n",
      "\t|                  |            modules            ||   artifacts   |\n",
      "\t|       conf       | number| search|dwnlded|evicted|| number|dwnlded|\n",
      "\t---------------------------------------------------------------------\n",
      "\t|      default     |   15  |   0   |   0   |   0   ||   15  |   0   |\n",
      "\t---------------------------------------------------------------------\n",
      ":: retrieving :: org.apache.spark#spark-submit-parent-d7a4ee0f-98b7-4414-8aac-31942ffc2fab\n",
      "\tconfs: [default]\n",
      "\t0 artifacts copied, 15 already retrieved (0kB/7ms)\n",
      "22/01/07 04:03:59 WARN NativeCodeLoader: Unable to load native-hadoop library for your platform... using builtin-java classes where applicable\n",
      "Setting default log level to \"WARN\".\n",
      "To adjust logging level use sc.setLogLevel(newLevel). For SparkR, use setLogLevel(newLevel).\n"
     ]
    }
   ],
   "source": [
    "#pysparkに必要なライブラリを読み込む\n",
    "from pyspark import SparkConf\n",
    "from pyspark import SparkContext\n",
    "from pyspark.sql import SparkSession\n",
    "\n",
    "#spark sessionの作成\n",
    "# spark.ui.enabled trueとするとSparkのGUI画面を確認することができます\n",
    "# spark.eventLog.enabled true　とすると　GUIで実行ログを確認することができます\n",
    "# GUIなどの確認は最後のセクションで説明を行います。\n",
    "spark = SparkSession.builder \\\n",
    "    .appName(\"chapter1\") \\\n",
    "    .config(\"hive.exec.dynamic.partition\", \"true\") \\\n",
    "    .config(\"hive.exec.dynamic.partition.mode\", \"nonstrict\") \\\n",
    "    .config(\"spark.sql.session.timeZone\", \"JST\") \\\n",
    "    .config(\"spark.ui.enabled\",\"true\") \\\n",
    "    .config(\"spark.eventLog.enabled\",\"true\") \\\n",
    "    .config(\"spark.jars.packages\", \"org.apache.spark:spark-streaming_2.13:3.2.0,org.apache.spark:spark-sql-kafka-0-10_2.12:3.2.0,org.apache.spark:spark-avro_2.12:3.2.0\") \\\n",
    "    .enableHiveSupport() \\\n",
    "    .getOrCreate()\n",
    "\n",
    "# パッケージを複数渡したい時は「,」で繋いで渡します。\n",
    "# Sparkのバージョンにしっかりと合わせます(今回はSparkのバージョンが3.2を使っています。)。"
   ]
  },
  {
   "cell_type": "markdown",
   "metadata": {},
   "source": [
    "# ビッグデータの世界のDDL\n",
    "\n",
    "ビッグデータの世界でのDDLはRDSと同じ様にDDL文を実行することが可能です。  \n",
    "今回は以下のDDLについてみていきましょう  \n",
    "\n",
    "- Create Database 文\n",
    "- CREATE EXTERNAL TABLE文\n",
    "- CREATE VIEW\n",
    "- ADD PARTITION(MSCK REPAIR)"
   ]
  },
  {
   "cell_type": "markdown",
   "metadata": {},
   "source": [
    "## CREATE DATABASE文\n",
    "データベースの作成を行います。\n",
    "こちらはRDSなどのCreate Database　と同じ方法で作成が可能です。"
   ]
  },
  {
   "cell_type": "code",
   "execution_count": 3,
   "metadata": {},
   "outputs": [
    {
     "name": "stderr",
     "output_type": "stream",
     "text": [
      "22/01/07 04:05:07 WARN HiveConf: HiveConf of name hive.stats.jdbc.timeout does not exist\n",
      "22/01/07 04:05:07 WARN HiveConf: HiveConf of name hive.stats.retries.wait does not exist\n",
      "Fri Jan 07 04:05:08 UTC 2022 WARN: Establishing SSL connection without server's identity verification is not recommended. According to MySQL 5.5.45+, 5.6.26+ and 5.7.6+ requirements SSL connection must be established by default if explicit option isn't set. For compliance with existing applications not using SSL the verifyServerCertificate property is set to 'false'. You need either to explicitly disable SSL by setting useSSL=false, or set useSSL=true and provide truststore for server certificate verification.\n",
      "Fri Jan 07 04:05:08 UTC 2022 WARN: Establishing SSL connection without server's identity verification is not recommended. According to MySQL 5.5.45+, 5.6.26+ and 5.7.6+ requirements SSL connection must be established by default if explicit option isn't set. For compliance with existing applications not using SSL the verifyServerCertificate property is set to 'false'. You need either to explicitly disable SSL by setting useSSL=false, or set useSSL=true and provide truststore for server certificate verification.\n",
      "Fri Jan 07 04:05:08 UTC 2022 WARN: Establishing SSL connection without server's identity verification is not recommended. According to MySQL 5.5.45+, 5.6.26+ and 5.7.6+ requirements SSL connection must be established by default if explicit option isn't set. For compliance with existing applications not using SSL the verifyServerCertificate property is set to 'false'. You need either to explicitly disable SSL by setting useSSL=false, or set useSSL=true and provide truststore for server certificate verification.\n",
      "Fri Jan 07 04:05:08 UTC 2022 WARN: Establishing SSL connection without server's identity verification is not recommended. According to MySQL 5.5.45+, 5.6.26+ and 5.7.6+ requirements SSL connection must be established by default if explicit option isn't set. For compliance with existing applications not using SSL the verifyServerCertificate property is set to 'false'. You need either to explicitly disable SSL by setting useSSL=false, or set useSSL=true and provide truststore for server certificate verification.\n",
      "Fri Jan 07 04:05:09 UTC 2022 WARN: Establishing SSL connection without server's identity verification is not recommended. According to MySQL 5.5.45+, 5.6.26+ and 5.7.6+ requirements SSL connection must be established by default if explicit option isn't set. For compliance with existing applications not using SSL the verifyServerCertificate property is set to 'false'. You need either to explicitly disable SSL by setting useSSL=false, or set useSSL=true and provide truststore for server certificate verification.\n",
      "Fri Jan 07 04:05:09 UTC 2022 WARN: Establishing SSL connection without server's identity verification is not recommended. According to MySQL 5.5.45+, 5.6.26+ and 5.7.6+ requirements SSL connection must be established by default if explicit option isn't set. For compliance with existing applications not using SSL the verifyServerCertificate property is set to 'false'. You need either to explicitly disable SSL by setting useSSL=false, or set useSSL=true and provide truststore for server certificate verification.\n",
      "Fri Jan 07 04:05:09 UTC 2022 WARN: Establishing SSL connection without server's identity verification is not recommended. According to MySQL 5.5.45+, 5.6.26+ and 5.7.6+ requirements SSL connection must be established by default if explicit option isn't set. For compliance with existing applications not using SSL the verifyServerCertificate property is set to 'false'. You need either to explicitly disable SSL by setting useSSL=false, or set useSSL=true and provide truststore for server certificate verification.\n",
      "Fri Jan 07 04:05:09 UTC 2022 WARN: Establishing SSL connection without server's identity verification is not recommended. According to MySQL 5.5.45+, 5.6.26+ and 5.7.6+ requirements SSL connection must be established by default if explicit option isn't set. For compliance with existing applications not using SSL the verifyServerCertificate property is set to 'false'. You need either to explicitly disable SSL by setting useSSL=false, or set useSSL=true and provide truststore for server certificate verification.\n",
      "22/01/07 04:05:09 WARN ObjectStore: Failed to get database global_temp, returning NoSuchObjectException\n"
     ]
    },
    {
     "data": {
      "text/plain": [
       "DataFrame[]"
      ]
     },
     "execution_count": 3,
     "metadata": {},
     "output_type": "execute_result"
    }
   ],
   "source": [
    "spark.sql(\"create database if not exists super_crush_course\")"
   ]
  },
  {
   "cell_type": "code",
   "execution_count": 4,
   "metadata": {},
   "outputs": [
    {
     "name": "stdout",
     "output_type": "stream",
     "text": [
      "+----------------------------+\n",
      "|namespace                   |\n",
      "+----------------------------+\n",
      "|data_management_crush_course|\n",
      "|default                     |\n",
      "|metadata_tmp                |\n",
      "|super_crush_course          |\n",
      "+----------------------------+\n",
      "\n"
     ]
    }
   ],
   "source": [
    "# データベースの一覧を見てみましょう\n",
    "spark.sql(\"show databases\").show(truncate=False)"
   ]
  },
  {
   "cell_type": "markdown",
   "metadata": {},
   "source": [
    "## CREATE EXTERNAL TABLE文\n",
    "テーブル定義の構成要素をみていきましょう\n",
    "\n",
    "```\n",
    "CREATE EXTERNAL TABLE IF NOT EXISTS super_crush_course.csv_table ( id INT, date STRING)\n",
    "PARTITIONED BY (dt INT)\n",
    "ROW FORMAT DELIMITED\n",
    "FIELDS TERMINATED BY ','\n",
    "LOCATION '/home/pyspark/super_crush_course.db/csv_table/dataset/parquet/';\n",
    "\n",
    "#S3などであれば、以下のように設定を変えることも可能です。\n",
    "LOCATION 's3://data.platform/super_crush_course.db/raw_zone/sampletable/';\n",
    "\n",
    "```\n",
    "\n",
    "ビッグデータの世界では、実データとデータベース定義/テーブル定義(メタデータ)は明確に分離されています。  \n",
    "今回のコースだと実データはローカル端末のSSD(HDD)でテーブル定義はMysqlに登録されています。  \n",
    "明確に分離されているからこそ、場所を指し示す宣言であるLocationが必要になってきます  \n",
    "\n",
    "ロケーションは「super_crush_course.db」とDB名.db/TABLE名とすることが通例です。  \n",
    "Externalは外部のという意味で、オンプレ環境の場合はつけないことが多かったが、クラウド環境ではつけるのが必須となっている設定。\n",
    "\n",
    "メタデータについてさらに詳しく知りたい方は、以下の講座を参照してみてください  \n",
    "「【PythonとSparkで始めるデータマネジメント入門】 ビッグデータレイクのための統合メタデータ管理入門」\n",
    "\n",
    "上記の例は、CSV形式のテーブルです。  \n",
    "それ以外にもParquet形式、Avro形式でテーブルを作成することができます。\n",
    "\n",
    "```\n",
    "# パーティションつきのテーブル\n",
    "CREATE TABLE IF NOT EXISTS super_crush_course.parquet_table \n",
    "(code String, gengo String,wareki String,seireki String,chu String,sokei String,jinko_male String,jinko_femail String)\n",
    "PARTITIONED BY (kenmei String)\n",
    "STORED AS PARQUET\n",
    "TBLPROPERTIES (\"parquet.compression\"=\"SNAPPY\");\n",
    "LOCATION '/home/pyspark/super_crush_course.db/parquet_table';\n",
    "\n",
    "```\n",
    "\n",
    "圧縮形式と保存するファイルフォーマットを指定してテーブルの作成を行なっていきます。  \n",
    "ちなみにテーブル定義のカラムは、今回読み込んだCSV/JSONのスキーマになります。  \n",
    "\n",
    "```\n",
    "# パーティションなしのテーブルの場合\n",
    "CREATE TABLE IF NOT EXISTS super_crush_course.parquet_table_with_no_partition\n",
    "(code String, gengo String,kenmei, String,wareki String,seireki String,chu String,sokei String,jinko_male String,jinko_femail String)\n",
    "STORED AS PARQUET\n",
    "TBLPROPERTIES ('parquet.compression'='SNAPPY')\n",
    "LOCATION '/home/pyspark/super_crush_course.db/parquet_table_with_no_partition'\n",
    "\n",
    "```"
   ]
  },
  {
   "cell_type": "code",
   "execution_count": 9,
   "metadata": {},
   "outputs": [
    {
     "data": {
      "text/plain": [
       "DataFrame[]"
      ]
     },
     "execution_count": 9,
     "metadata": {},
     "output_type": "execute_result"
    }
   ],
   "source": [
    "## テーブル作成\n",
    "# テーブル作成も同様に、spark.sqlを使ってテーブルを作成していきます。\n",
    "# ロケーションはセクション2で出力したディレクトリになります。\n",
    "\n",
    "# Parquetテーブルの作成(パーティションあり)\n",
    "spark.sql(\"\"\"\n",
    "\n",
    "CREATE TABLE IF NOT EXISTS super_crush_course.parquet_table_with_partition \n",
    "(code String, gengo String,wareki String,seireki String,chu String,sokei String,jinko_male String,jinko_femail String)\n",
    "PARTITIONED BY (kenmei String)\n",
    "STORED AS PARQUET\n",
    "TBLPROPERTIES ('parquet.compression'='SNAPPY')\n",
    "LOCATION '/home/pyspark/super_crush_course.db/parquet_table_with_partition'\n",
    "\n",
    "\"\"\")\n",
    "\n",
    "# Paruqetテーブルの作成(パーティションなし)\n",
    "spark.sql(\"\"\"\n",
    "\n",
    "CREATE TABLE IF NOT EXISTS super_crush_course.parquet_table_with_no_partition \n",
    "(code String, gengo String,wareki String,kenmei String,seireki String,chu String,sokei String,jinko_male String,jinko_femail String)\n",
    "STORED AS PARQUET\n",
    "TBLPROPERTIES ('parquet.compression'='SNAPPY')\n",
    "LOCATION '/home/pyspark/super_crush_course.db/parquet_table_with_no_partition'\n",
    "\n",
    "\"\"\")"
   ]
  },
  {
   "cell_type": "code",
   "execution_count": 18,
   "metadata": {},
   "outputs": [
    {
     "data": {
      "text/plain": [
       "DataFrame[]"
      ]
     },
     "execution_count": 18,
     "metadata": {},
     "output_type": "execute_result"
    }
   ],
   "source": [
    "# AVROテーブルの作成(パーティションあり)\n",
    "spark.sql(\"\"\"\n",
    "\n",
    "CREATE TABLE IF NOT EXISTS super_crush_course.avro_table_with_partition \n",
    "(code String, gengo String,wareki String,seireki String,chu String,sokei String,jinko_male String,jinko_femail String)\n",
    "PARTITIONED BY (kenmei String)\n",
    "STORED AS AVRO\n",
    "TBLPROPERTIES ('avro.compression'='SNAPPY')\n",
    "LOCATION '/home/pyspark/super_crush_course.db/parquet_table_with_partition'\n",
    "\n",
    "\"\"\")\n",
    "\n",
    "# AVROテーブルの作成(パーティションなし)\n",
    "spark.sql(\"\"\"\n",
    "\n",
    "CREATE TABLE IF NOT EXISTS super_crush_course.avro_table_with_no_partition \n",
    "(code String, gengo String,wareki String,kenmei String,seireki String,chu String,sokei String,jinko_male String,jinko_femail String)\n",
    "STORED AS AVRO\n",
    "TBLPROPERTIES ('avro.compression'='SNAPPY')\n",
    "LOCATION '/home/pyspark/super_crush_course.db/avro_table_with_no_partition'\n",
    "\n",
    "\"\"\")"
   ]
  },
  {
   "cell_type": "code",
   "execution_count": 17,
   "metadata": {},
   "outputs": [
    {
     "name": "stdout",
     "output_type": "stream",
     "text": [
      "+------------------+-------------------------------+-----------+\n",
      "|namespace         |tableName                      |isTemporary|\n",
      "+------------------+-------------------------------+-----------+\n",
      "|super_crush_course|avro_table_with_no_partition   |false      |\n",
      "|super_crush_course|ctas_dataframe                 |false      |\n",
      "|super_crush_course|ctas_sql                       |false      |\n",
      "|super_crush_course|parquet_table_with_no_partition|false      |\n",
      "|super_crush_course|parquet_table_with_partition   |false      |\n",
      "+------------------+-------------------------------+-----------+\n",
      "\n"
     ]
    }
   ],
   "source": [
    "# 作成したテーブルを見てみましょう\n",
    "spark.sql(\"show tables in super_crush_course\").show(truncate=False)"
   ]
  },
  {
   "cell_type": "markdown",
   "metadata": {},
   "source": [
    "# ADD PRTITION\n",
    "パーティションを認識するためにコマンドを発行する必要があります。\n",
    "\n",
    "- Add Partiton\n",
    "- MSCK repair Table\n",
    "\n",
    "の2つをみていきましょう"
   ]
  },
  {
   "cell_type": "code",
   "execution_count": 10,
   "metadata": {},
   "outputs": [
    {
     "name": "stdout",
     "output_type": "stream",
     "text": [
      "+---------+\n",
      "|partition|\n",
      "+---------+\n",
      "+---------+\n",
      "\n"
     ]
    }
   ],
   "source": [
    "# パーティションも管理されている\n",
    "spark.sql(\"show partitions super_crush_course.parquet_table_with_partition\").show(n=2)\n",
    "# 本来kenmeiがあってほしいが。。。"
   ]
  },
  {
   "cell_type": "code",
   "execution_count": 11,
   "metadata": {},
   "outputs": [
    {
     "name": "stdout",
     "output_type": "stream",
     "text": [
      "+----+-----+------+------+-------+----+-------+----------+------------+\n",
      "|code|gengo|wareki|kenmei|seireki| chu|  sokei|jinko_male|jinko_femail|\n",
      "+----+-----+------+------+-------+----+-------+----------+------------+\n",
      "|  25| 平成|    22|滋賀県|   2010|null|1410777|    696769|        null|\n",
      "|  27| 昭和|    10|大阪府|   1935|null|4297174|   2241666|        null|\n",
      "+----+-----+------+------+-------+----+-------+----------+------------+\n",
      "only showing top 2 rows\n",
      "\n"
     ]
    }
   ],
   "source": [
    "# パーティションなしテーブルは。。？クエリしてみる\n",
    "spark.sql(\"select * from super_crush_course.parquet_table_with_no_partition\").show(n=2)"
   ]
  },
  {
   "cell_type": "code",
   "execution_count": 12,
   "metadata": {},
   "outputs": [
    {
     "name": "stdout",
     "output_type": "stream",
     "text": [
      "+----+-----+------+-------+---+-----+----------+------------+------+\n",
      "|code|gengo|wareki|seireki|chu|sokei|jinko_male|jinko_femail|kenmei|\n",
      "+----+-----+------+-------+---+-----+----------+------------+------+\n",
      "+----+-----+------+-------+---+-----+----------+------------+------+\n",
      "\n"
     ]
    }
   ],
   "source": [
    "# パーティションがあってadd paritionをしていないテーブルは。。？クエリしてみる\n",
    "spark.sql(\"select * from super_crush_course.parquet_table_with_partition\").show(n=2)\n",
    "# データを見ることができない"
   ]
  },
  {
   "cell_type": "code",
   "execution_count": 13,
   "metadata": {},
   "outputs": [
    {
     "name": "stderr",
     "output_type": "stream",
     "text": [
      "22/01/07 04:17:07 WARN log: Updating partition stats fast for: parquet_table_with_partition\n",
      "22/01/07 04:17:07 WARN log: Updated size to 5095\n"
     ]
    },
    {
     "data": {
      "text/plain": [
       "DataFrame[]"
      ]
     },
     "execution_count": 13,
     "metadata": {},
     "output_type": "execute_result"
    }
   ],
   "source": [
    "# パーティションを追加してみる\n",
    "# パーティションの追加には２種類存在しています\n",
    "# add partition\n",
    "# msck repair table名\n",
    "spark.sql(\"alter table super_crush_course.parquet_table_with_partition add if not exists  partition (kenmei='東京都')\")"
   ]
  },
  {
   "cell_type": "code",
   "execution_count": 20,
   "metadata": {},
   "outputs": [
    {
     "name": "stdout",
     "output_type": "stream",
     "text": [
      "+-----------------------------+\n",
      "|                    partition|\n",
      "+-----------------------------+\n",
      "|         kenmei=__HIVE_DEF...|\n",
      "|                kenmei=三重県|\n",
      "|                kenmei=京都府|\n",
      "|          kenmei=人口集中地区|\n",
      "|kenmei=人口集中地区以外の地区|\n",
      "|                kenmei=佐賀県|\n",
      "|                  kenmei=全国|\n",
      "|                kenmei=兵庫県|\n",
      "|                kenmei=北海道|\n",
      "|                kenmei=千葉県|\n",
      "|              kenmei=和歌山県|\n",
      "|                kenmei=埼玉県|\n",
      "|                kenmei=大分県|\n",
      "|                kenmei=大阪府|\n",
      "|                kenmei=奈良県|\n",
      "|                kenmei=宮城県|\n",
      "|                kenmei=宮崎県|\n",
      "|                kenmei=富山県|\n",
      "|                kenmei=山口県|\n",
      "|                kenmei=山形県|\n",
      "+-----------------------------+\n",
      "only showing top 20 rows\n",
      "\n"
     ]
    }
   ],
   "source": [
    "# パーティションも管理されている\n",
    "spark.sql(\"show partitions super_crush_course.parquet_table_with_partition\").show(n=20)"
   ]
  },
  {
   "cell_type": "code",
   "execution_count": 15,
   "metadata": {},
   "outputs": [
    {
     "name": "stdout",
     "output_type": "stream",
     "text": [
      "+----+-----+------+-------+----+--------+----------+------------+------+\n",
      "|code|gengo|wareki|seireki| chu|   sokei|jinko_male|jinko_femail|kenmei|\n",
      "+----+-----+------+-------+----+--------+----------+------------+------+\n",
      "|  13| 平成|    17|   2005|null|12576601|   6264895|        null|東京都|\n",
      "|  13| 昭和|    55|   1980|null|11618281|   5856280|        null|東京都|\n",
      "|  13| 平成|     7|   1995|null|11773605|   5892704|        null|東京都|\n",
      "|  13| 昭和|    25|   1950|null| 6277500|   3169389|        null|東京都|\n",
      "|  13| 大正|     9|   1920|null| 3699428|   1952989|        null|東京都|\n",
      "|  13| 昭和|     5|   1930|null| 5408678|   2855323|        null|東京都|\n",
      "|  13| 平成|    27|   2015|null|13515271|   6666690|        null|東京都|\n",
      "|  13| 平成|     2|   1990|null|11855563|   5969773|        null|東京都|\n",
      "|  13| 平成|    22|   2010|null|13159388|   6512110|        null|東京都|\n",
      "|  13| 昭和|    60|   1985|null|11829363|   5955029|        null|東京都|\n",
      "|  13| 大正|    14|   1925|null| 4485144|   2387609|        null|東京都|\n",
      "|  13| 昭和|    30|   1955|null| 8037084|   4115823|        null|東京都|\n",
      "|  13| 昭和|    50|   1975|null|11673554|   5913373|        null|東京都|\n",
      "|  13| 平成|    12|   2000|null|12064101|   6028562|        null|東京都|\n",
      "|  13| 昭和|    35|   1960|  2)| 9683802|   4997023|        null|東京都|\n",
      "|  13| 昭和|    15|   1940|null| 7354971|   3795875|        null|東京都|\n",
      "|  13| 昭和|    20|   1945|  1)| 3488284|   1788145|        null|東京都|\n",
      "|  13| 昭和|    10|   1935|null| 6369919|   3325696|        null|東京都|\n",
      "|  13| 昭和|    40|   1965|null|10869244|   5564583|        null|東京都|\n",
      "|  13| 昭和|    45|   1970|null|11408071|   5801009|        null|東京都|\n",
      "+----+-----+------+-------+----+--------+----------+------------+------+\n",
      "\n"
     ]
    }
   ],
   "source": [
    "# 再度検索を行ってみる\n",
    "# パーティションがあってadd paritionをしていないテーブルは。。？クエリしてみる\n",
    "spark.sql(\"select * from super_crush_course.parquet_table_with_partition\").show()\n",
    "# 追加した東京都のデータだけ見える"
   ]
  },
  {
   "cell_type": "code",
   "execution_count": 19,
   "metadata": {},
   "outputs": [
    {
     "data": {
      "text/plain": [
       "DataFrame[]"
      ]
     },
     "execution_count": 19,
     "metadata": {},
     "output_type": "execute_result"
    }
   ],
   "source": [
    "# 一個づつAdd partitionするのは面倒なのでmsckを使う(ただし時間がかかる場合が多いので、日々の処理であればadd partitionを選択する方がいい)\n",
    "spark.sql(\"msck repair table super_crush_course.parquet_table_with_partition\")\n",
    "spark.sql(\"msck repair table super_crush_course.avro_table_with_partition\")"
   ]
  },
  {
   "cell_type": "markdown",
   "metadata": {},
   "source": [
    "# Create View\n",
    "ビューを作成します。\n",
    "ビューとは、仮想的なテーブルのことでデータを生成しなくてもテーブルを生成することが可能です。\n",
    "\n",
    "言葉で伝えるより実際に見た方がいいと思うので、早速作ってみましょう。　　\n",
    "\n",
    "手っ取り早くクエリを簡単にしたい場合に有効です。"
   ]
  },
  {
   "cell_type": "code",
   "execution_count": 23,
   "metadata": {},
   "outputs": [
    {
     "data": {
      "text/plain": [
       "DataFrame[]"
      ]
     },
     "execution_count": 23,
     "metadata": {},
     "output_type": "execute_result"
    }
   ],
   "source": [
    "# create view\n",
    "\n",
    "spark.sql(\"\"\"\n",
    "\n",
    "create view if not exists parquet_view (gengo)\n",
    "as \n",
    "select gengo from \n",
    "super_crush_course.parquet_table_with_partition\n",
    "\n",
    "\"\"\")"
   ]
  },
  {
   "cell_type": "code",
   "execution_count": 24,
   "metadata": {},
   "outputs": [
    {
     "name": "stdout",
     "output_type": "stream",
     "text": [
      "+-----+\n",
      "|gengo|\n",
      "+-----+\n",
      "| null|\n",
      "| 昭和|\n",
      "| 昭和|\n",
      "| 平成|\n",
      "| 昭和|\n",
      "| 昭和|\n",
      "| 昭和|\n",
      "| 昭和|\n",
      "| 昭和|\n",
      "| 大正|\n",
      "| 昭和|\n",
      "| 昭和|\n",
      "| 平成|\n",
      "| 平成|\n",
      "| 昭和|\n",
      "| 昭和|\n",
      "| 昭和|\n",
      "| 平成|\n",
      "| 平成|\n",
      "| 昭和|\n",
      "+-----+\n",
      "only showing top 20 rows\n",
      "\n"
     ]
    }
   ],
   "source": [
    "spark.sql(\"select * from parquet_view\").show()"
   ]
  },
  {
   "cell_type": "markdown",
   "metadata": {},
   "source": [
    "# テンポラリテーブル\n",
    "テンポラリーテーブルとはデータフレームから一時的にテーブルを作成することで、SparkSessionごとに生成が可能です。\n",
    "\n",
    "特にスキーマオンリードで読み込んだdataframeを一時的にテーブルにすることで、SQLでの操作を可能にすることができます。\n",
    "\n",
    "一連の流れを見てみましょう"
   ]
  },
  {
   "cell_type": "code",
   "execution_count": 25,
   "metadata": {},
   "outputs": [],
   "source": [
    "# テンポラリーテーブルの作成\n",
    "json_df=spark.read.json(\"./dataset/jinko.json\")\n",
    "json_df.createOrReplaceTempView(\"json_tmp\")"
   ]
  },
  {
   "cell_type": "code",
   "execution_count": 26,
   "metadata": {},
   "outputs": [
    {
     "name": "stdout",
     "output_type": "stream",
     "text": [
      "+----+----+-----+------------+----------+------+-------+--------+------+\n",
      "| chu|code|gengo|jinko_female|jinko_male|kenmei|seireki|   sokei|wareki|\n",
      "+----+----+-----+------------+----------+------+-------+--------+------+\n",
      "|null|  13| 大正|     1746439|   1952989|東京都|   1920| 3699428|     9|\n",
      "|null|  13| 大正|     2097535|   2387609|東京都|   1925| 4485144|    14|\n",
      "|null|  13| 昭和|     2553355|   2855323|東京都|   1930| 5408678|     5|\n",
      "|null|  13| 昭和|     3044223|   3325696|東京都|   1935| 6369919|    10|\n",
      "|null|  13| 昭和|     3559096|   3795875|東京都|   1940| 7354971|    15|\n",
      "|  1)|  13| 昭和|     1700139|   1788145|東京都|   1945| 3488284|    20|\n",
      "|null|  13| 昭和|     3108111|   3169389|東京都|   1950| 6277500|    25|\n",
      "|null|  13| 昭和|     3921261|   4115823|東京都|   1955| 8037084|    30|\n",
      "|  2)|  13| 昭和|     4686779|   4997023|東京都|   1960| 9683802|    35|\n",
      "|null|  13| 昭和|     5304661|   5564583|東京都|   1965|10869244|    40|\n",
      "|null|  13| 昭和|     5607062|   5801009|東京都|   1970|11408071|    45|\n",
      "|null|  13| 昭和|     5760181|   5913373|東京都|   1975|11673554|    50|\n",
      "|null|  13| 昭和|     5762001|   5856280|東京都|   1980|11618281|    55|\n",
      "|null|  13| 昭和|     5874334|   5955029|東京都|   1985|11829363|    60|\n",
      "|null|  13| 平成|     5885790|   5969773|東京都|   1990|11855563|     2|\n",
      "|null|  13| 平成|     5880901|   5892704|東京都|   1995|11773605|     7|\n",
      "|null|  13| 平成|     6035539|   6028562|東京都|   2000|12064101|    12|\n",
      "|null|  13| 平成|     6311706|   6264895|東京都|   2005|12576601|    17|\n",
      "|null|  13| 平成|     6647278|   6512110|東京都|   2010|13159388|    22|\n",
      "|null|  13| 平成|     6848581|   6666690|東京都|   2015|13515271|    27|\n",
      "+----+----+-----+------------+----------+------+-------+--------+------+\n",
      "\n"
     ]
    }
   ],
   "source": [
    "#　json_tempの検索\n",
    "spark.sql(\"select * from json_tmp where kenmei='東京都'\").show()"
   ]
  },
  {
   "cell_type": "markdown",
   "metadata": {},
   "source": [
    "# ビッグデータ世界のDMLとは\n",
    "\n",
    "ビッグデータの世界のSQLは基本的にSQL’ライク’です。  \n",
    "というのもRDSのSQLを前提にしてライクと言っているだけなので、ビッグデータ世界を中心としたらSQLそのものです。  \n",
    "RDSでのSQLに慣れている人は、ビッグデータの世界のSQLは難なくこなすことができると思います。  \n",
    "\n",
    "- SELECT\n",
    "- CTAS\n",
    "- SELECT INSERT\n",
    "- INSERT?\n",
    "- UPDATE?\n",
    "- DELETE?\n",
    "\n",
    "今回はこれらのDMLを確認してみます。"
   ]
  },
  {
   "cell_type": "code",
   "execution_count": null,
   "metadata": {},
   "outputs": [],
   "source": [
    "# SELECT\n",
    "spark.sql(\"select * from super_crush_course.parquet_table_with_no_partition where kenmei ='東京都'\").show()\n",
    "\n",
    "## パーティションつきのテーブルを検索してみる\n",
    "spark.sql(\"select * from super_crush_course.parquet_table_with_partition where kenmei ='東京都'\").show()\n",
    "\n",
    "# パーティションなしの場合は、すべてのデータを走査してから絞り込みます\n",
    "# パーティションありの場合は、特定のパーティション配下のディレクトリのみをチェックします\n",
    "\n",
    "# 大体のRDSのSQLでできることは実行可能です。"
   ]
  },
  {
   "cell_type": "code",
   "execution_count": null,
   "metadata": {},
   "outputs": [],
   "source": [
    "# Joinも可能\n",
    "# SQLでJoinするというのはRDBを使っている方ならイメージが湧くと思いますので、今回はデータフレームでジョインをしてみたいと思います\n",
    "json_df.join(json_df,on=[json_df.code == json_df.code,json_df.wareki == json_df.wareki],how=\"inner\").show()"
   ]
  },
  {
   "cell_type": "markdown",
   "metadata": {},
   "source": [
    "# CTAS\n",
    "Create Table As Selectの略です。\n",
    "\n",
    "簡単にいうと、Selectの返却結果からテーブルを作成することが可能です。"
   ]
  },
  {
   "cell_type": "code",
   "execution_count": 27,
   "metadata": {},
   "outputs": [
    {
     "data": {
      "text/plain": [
       "DataFrame[]"
      ]
     },
     "execution_count": 27,
     "metadata": {},
     "output_type": "execute_result"
    }
   ],
   "source": [
    "# CTASを動かしてみます\n",
    "\n",
    "# SQLでやる方法\n",
    "spark.sql(\"\"\" \n",
    "CREATE EXTERNAL TABLE if not exists super_crush_course.ctas_sql \n",
    "    STORED AS PARQUET LOCATION '/home/pyspark/super_crush_course.db/ctas_sql' \n",
    "AS\n",
    "SELECT *\n",
    "    FROM super_crush_course.parquet_table_with_no_partition\n",
    "WHERE 1=1\n",
    "\n",
    "\"\"\")"
   ]
  },
  {
   "cell_type": "code",
   "execution_count": 28,
   "metadata": {},
   "outputs": [
    {
     "name": "stdout",
     "output_type": "stream",
     "text": [
      "+------------------+-------------------------------+-----------+\n",
      "|namespace         |tableName                      |isTemporary|\n",
      "+------------------+-------------------------------+-----------+\n",
      "|super_crush_course|avro_table_with_no_partition   |false      |\n",
      "|super_crush_course|avro_table_with_partition      |false      |\n",
      "|super_crush_course|ctas_dataframe                 |false      |\n",
      "|super_crush_course|ctas_sql                       |false      |\n",
      "|super_crush_course|parquet_table_with_no_partition|false      |\n",
      "|super_crush_course|parquet_table_with_partition   |false      |\n",
      "|                  |json_tmp                       |true       |\n",
      "+------------------+-------------------------------+-----------+\n",
      "\n"
     ]
    }
   ],
   "source": [
    "spark.sql(\"show tables in super_crush_course\").show(truncate=False)"
   ]
  },
  {
   "cell_type": "code",
   "execution_count": 29,
   "metadata": {},
   "outputs": [
    {
     "name": "stderr",
     "output_type": "stream",
     "text": [
      "22/01/07 04:28:45 WARN HadoopFSUtils: The directory file:/home/pyspark/super_crush_course.db/ctas_dataframe was not found. Was it deleted very recently?\n"
     ]
    }
   ],
   "source": [
    "json_df.write.format(\"parquet\").mode(\"overwrite\").saveAsTable(\"super_crush_course.ctas_dataframe\",path='/home/pyspark/super_crush_course.db/ctas_dataframe')"
   ]
  },
  {
   "cell_type": "code",
   "execution_count": 30,
   "metadata": {},
   "outputs": [
    {
     "name": "stdout",
     "output_type": "stream",
     "text": [
      "root\n",
      " |-- chu: string (nullable = true)\n",
      " |-- code: string (nullable = true)\n",
      " |-- gengo: string (nullable = true)\n",
      " |-- jinko_female: string (nullable = true)\n",
      " |-- jinko_male: string (nullable = true)\n",
      " |-- kenmei: string (nullable = true)\n",
      " |-- seireki: string (nullable = true)\n",
      " |-- sokei: string (nullable = true)\n",
      " |-- wareki: string (nullable = true)\n",
      "\n",
      "+---------------------------------------------------------------------------------------------------------------------------------------------------------------------------------------------------------------------------------------------------------------------------------------------------------------------------------+\n",
      "|createtab_stmt                                                                                                                                                                                                                                                                                                                   |\n",
      "+---------------------------------------------------------------------------------------------------------------------------------------------------------------------------------------------------------------------------------------------------------------------------------------------------------------------------------+\n",
      "|CREATE TABLE `super_crush_course`.`ctas_dataframe` (\\n  `chu` STRING,\\n  `code` STRING,\\n  `gengo` STRING,\\n  `jinko_female` STRING,\\n  `jinko_male` STRING,\\n  `kenmei` STRING,\\n  `seireki` STRING,\\n  `sokei` STRING,\\n  `wareki` STRING)\\nUSING parquet\\nLOCATION 'file:/home/pyspark/super_crush_course.db/ctas_dataframe'\\n|\n",
      "+---------------------------------------------------------------------------------------------------------------------------------------------------------------------------------------------------------------------------------------------------------------------------------------------------------------------------------+\n",
      "\n"
     ]
    }
   ],
   "source": [
    "spark.sql(\"select * from super_crush_course.ctas_dataframe\").printSchema()\n",
    "spark.sql(\"show create table super_crush_course.ctas_dataframe\").show(truncate=False)"
   ]
  },
  {
   "cell_type": "code",
   "execution_count": 31,
   "metadata": {},
   "outputs": [
    {
     "name": "stdout",
     "output_type": "stream",
     "text": [
      "+----+----+-----+------------+----------+--------+-------+--------+------+\n",
      "| chu|code|gengo|jinko_female|jinko_male|  kenmei|seireki|   sokei|wareki|\n",
      "+----+----+-----+------------+----------+--------+-------+--------+------+\n",
      "|null|  00| 大正|    27918868|  28044185|    全国|   1920|55963053|     9|\n",
      "|null|  01| 大正|     1114861|   1244322|  北海道|   1920| 2359183|     9|\n",
      "|null|  02| 大正|      375161|    381293|  青森県|   1920|  756454|     9|\n",
      "|null|  03| 大正|      424471|    421069|  岩手県|   1920|  845540|     9|\n",
      "|null|  04| 大正|      476459|    485309|  宮城県|   1920|  961768|     9|\n",
      "|null|  05| 大正|      444855|    453682|  秋田県|   1920|  898537|     9|\n",
      "|null|  06| 大正|      490597|    478328|  山形県|   1920|  968925|     9|\n",
      "|null|  07| 大正|      689225|    673525|  福島県|   1920| 1362750|     9|\n",
      "|null|  08| 大正|      688272|    662128|  茨城県|   1920| 1350400|     9|\n",
      "|null|  09| 大正|      532224|    514255|  栃木県|   1920| 1046479|     9|\n",
      "|null|  10| 大正|      538504|    514106|  群馬県|   1920| 1052610|     9|\n",
      "|null|  11| 大正|      678372|    641161|  埼玉県|   1920| 1319533|     9|\n",
      "|null|  12| 大正|      679187|    656968|  千葉県|   1920| 1336155|     9|\n",
      "|null|  13| 大正|     1746439|   1952989|  東京都|   1920| 3699428|     9|\n",
      "|null|  14| 大正|      633639|    689751|神奈川県|   1920| 1323390|     9|\n",
      "|null|  15| 大正|      904942|    871532|  新潟県|   1920| 1776474|     9|\n",
      "|null|  16| 大正|      369501|    354775|  富山県|   1920|  724276|     9|\n",
      "|null|  17| 大正|      382985|    364375|  石川県|   1920|  747360|     9|\n",
      "|null|  18| 大正|      305974|    293181|  福井県|   1920|  599155|     9|\n",
      "|null|  19| 大正|      292636|    290817|  山梨県|   1920|  583453|     9|\n",
      "+----+----+-----+------------+----------+--------+-------+--------+------+\n",
      "only showing top 20 rows\n",
      "\n"
     ]
    }
   ],
   "source": [
    "spark.sql(\"select * from super_crush_course.ctas_dataframe\").show()"
   ]
  },
  {
   "cell_type": "markdown",
   "metadata": {},
   "source": [
    "# SELECT INSERT\n",
    "既に存在するテーブルに対して、検索結果をもとにデータを登録していくことができます。  \n",
    "SELECT INSERTの場合は、ADD PARTITIONは不要です\n",
    "\n",
    "CTASと違うのはこちらはテーブルを作る操作ではなくて既にあるテーブルに対してデータを登録することが目的です。"
   ]
  },
  {
   "cell_type": "code",
   "execution_count": 32,
   "metadata": {},
   "outputs": [
    {
     "name": "stderr",
     "output_type": "stream",
     "text": [
      "22/01/07 04:31:19 WARN log: Updating partition stats fast for: parquet_table_with_partition\n",
      "22/01/07 04:31:19 WARN log: Updated size to 22841\n"
     ]
    },
    {
     "data": {
      "text/plain": [
       "DataFrame[]"
      ]
     },
     "execution_count": 32,
     "metadata": {},
     "output_type": "execute_result"
    }
   ],
   "source": [
    "# 今回は各地域のデータの履歴をまとめて一つのパーティションに入れるSelect Insertを記載してましょう。\n",
    "spark.sql(\"\"\" \n",
    "Insert overwrite table super_crush_course.parquet_table_with_partition PARTITION(kenmei='all')\n",
    "\n",
    "select code,gengo,wareki,seireki,chu,sokei,jinko_male,jinko_femail\n",
    " from \n",
    "super_crush_course.parquet_table_with_no_partition\n",
    "\n",
    "\"\"\")"
   ]
  },
  {
   "cell_type": "code",
   "execution_count": 33,
   "metadata": {},
   "outputs": [
    {
     "name": "stdout",
     "output_type": "stream",
     "text": [
      "+-----------------------------+\n",
      "|                    partition|\n",
      "+-----------------------------+\n",
      "|         kenmei=__HIVE_DEF...|\n",
      "|                   kenmei=all|\n",
      "|                kenmei=三重県|\n",
      "|                kenmei=京都府|\n",
      "|          kenmei=人口集中地区|\n",
      "|kenmei=人口集中地区以外の地区|\n",
      "|                kenmei=佐賀県|\n",
      "|                  kenmei=全国|\n",
      "|                kenmei=兵庫県|\n",
      "|                kenmei=北海道|\n",
      "|                kenmei=千葉県|\n",
      "|              kenmei=和歌山県|\n",
      "|                kenmei=埼玉県|\n",
      "|                kenmei=大分県|\n",
      "|                kenmei=大阪府|\n",
      "|                kenmei=奈良県|\n",
      "|                kenmei=宮城県|\n",
      "|                kenmei=宮崎県|\n",
      "|                kenmei=富山県|\n",
      "|                kenmei=山口県|\n",
      "+-----------------------------+\n",
      "only showing top 20 rows\n",
      "\n"
     ]
    }
   ],
   "source": [
    "spark.sql(\"show partitions super_crush_course.parquet_table_with_partition\").show()"
   ]
  },
  {
   "cell_type": "markdown",
   "metadata": {},
   "source": [
    "# INSERT/UPDATE/DELETE?\n",
    "ビッグデータの世界では原則としてACIDをサポートしていません。  \n",
    "そのため、UPDATEやDELETがサポートされていないことが多いです。\n",
    "\n",
    "INSERTは単体で利用することはできますが、あまり出番がなく前述で紹介したSELECT INSERTでの出番が大半です。"
   ]
  },
  {
   "cell_type": "markdown",
   "metadata": {},
   "source": [
    "# 分析関数の練習をしよう\n",
    "ここからは、分析関数の練習をしてみましょう。  \n",
    "\n",
    "- agg(groupby,count,sum)\n",
    "- window(over)\n",
    "- ピボットテーブル\n",
    "- lag/lead関数\n",
    "\n",
    "データフレームでの操作とSQLでの操作を対比させながら実行していきます。\n",
    "\n",
    "# 利用するテーブル(とDataFrame)\n",
    "spark.sql(\"select * from super_crush_course.parquet_table_with_no_partition\")"
   ]
  },
  {
   "cell_type": "code",
   "execution_count": 34,
   "metadata": {},
   "outputs": [],
   "source": [
    "analysis_df=spark.sql(\"select * from super_crush_course.parquet_table_with_no_partition\")"
   ]
  },
  {
   "cell_type": "code",
   "execution_count": 35,
   "metadata": {},
   "outputs": [
    {
     "name": "stdout",
     "output_type": "stream",
     "text": [
      "+----+-----+\n",
      "|code|count|\n",
      "+----+-----+\n",
      "|  07|   20|\n",
      "|  15|   20|\n",
      "+----+-----+\n",
      "only showing top 2 rows\n",
      "\n",
      "+----+-----------+---------+\n",
      "|code|   sum_male|   avg_me|\n",
      "+----+-----------+---------+\n",
      "|  07| 1.852108E7| 926054.0|\n",
      "|  15|2.2317954E7|1115897.7|\n",
      "+----+-----------+---------+\n",
      "only showing top 2 rows\n",
      "\n"
     ]
    }
   ],
   "source": [
    "from pyspark.sql import functions as F \n",
    "# groupby->agg\n",
    "# groupbyしたそれぞれのグループの中でデータを溜め込んでいく(count,sum,avg)こと\n",
    "\n",
    "analysis_df.groupBy(analysis_df.code).count().show(n=2)\n",
    "\n",
    "analysis_df.groupBy(analysis_df.code).agg(F.sum(analysis_df.jinko_male).alias(\"sum_male\"),F.avg(analysis_df.jinko_male).alias(\"avg_me\")).show(n=2) "
   ]
  },
  {
   "cell_type": "code",
   "execution_count": 36,
   "metadata": {},
   "outputs": [
    {
     "name": "stdout",
     "output_type": "stream",
     "text": [
      "+----+-----------+---------+\n",
      "|code|   sum_male|   avg_me|\n",
      "+----+-----------+---------+\n",
      "|  07| 1.852108E7| 926054.0|\n",
      "|  15|2.2317954E7|1115897.7|\n",
      "+----+-----------+---------+\n",
      "only showing top 2 rows\n",
      "\n"
     ]
    }
   ],
   "source": [
    "# sqlで表現してみましょう\n",
    "spark.sql(\"\"\"\n",
    "select code,sum(jinko_male) as sum_male,avg(jinko_male) as avg_me from super_crush_course.parquet_table_with_no_partition\n",
    "group by code\n",
    "\"\"\").show(n=2)"
   ]
  },
  {
   "cell_type": "code",
   "execution_count": 37,
   "metadata": {},
   "outputs": [
    {
     "name": "stdout",
     "output_type": "stream",
     "text": [
      "+----+-----+------+------+-------+----+---------+----------+------------+----------+\n",
      "|code|gengo|wareki|kenmei|seireki| chu|    sokei|jinko_male|jinko_femail|sokei_rank|\n",
      "+----+-----+------+------+-------+----+---------+----------+------------+----------+\n",
      "|  00| 大正|     9|  全国|   1920|null| 55963053|  28044185|        null|         1|\n",
      "|  00| 大正|    14|  全国|   1925|null| 59736822|  30013109|        null|         2|\n",
      "|  00| 昭和|     5|  全国|   1930|null| 64450005|  32390155|        null|         3|\n",
      "|  00| 昭和|    10|  全国|   1935|null| 69254148|  34734133|        null|         4|\n",
      "|  00| 昭和|    20|  全国|   1945|  1)| 71998104|  33894059|        null|         5|\n",
      "|  00| 昭和|    15|  全国|   1940|null| 73114308|  36566010|        null|         6|\n",
      "|  00| 昭和|    25|  全国|   1950|null| 84114574|  41241192|        null|         7|\n",
      "|  00| 昭和|    30|  全国|   1955|null| 90076594|  44242657|        null|         8|\n",
      "|  00| 昭和|    35|  全国|   1960|  2)| 94301623|  46300445|        null|         9|\n",
      "|  00| 昭和|    40|  全国|   1965|null| 99209137|  48692138|        null|        10|\n",
      "|  00| 昭和|    45|  全国|   1970|null|104665171|  51369177|        null|        11|\n",
      "|  00| 昭和|    50|  全国|   1975|null|111939643|  55090673|        null|        12|\n",
      "|  00| 昭和|    55|  全国|   1980|null|117060396|  57593769|        null|        13|\n",
      "|  00| 昭和|    60|  全国|   1985|null|121048923|  59497316|        null|        14|\n",
      "|  00| 平成|     2|  全国|   1990|null|123611167|  60696724|        null|        15|\n",
      "|  00| 平成|     7|  全国|   1995|null|125570246|  61574398|        null|        16|\n",
      "|  00| 平成|    12|  全国|   2000|null|126925843|  62110764|        null|        17|\n",
      "|  00| 平成|    27|  全国|   2015|null|127094745|  61841738|        null|        18|\n",
      "|  00| 平成|    17|  全国|   2005|null|127767994|  62348977|        null|        19|\n",
      "|  00| 平成|    22|  全国|   2010|null|128057352|  62327737|        null|        20|\n",
      "|  01| 大正|     9|北海道|   1920|null|  2359183|   1244322|        null|         1|\n",
      "|  01| 大正|    14|北海道|   1925|null|  2498679|   1305473|        null|         2|\n",
      "|  01| 昭和|     5|北海道|   1930|null|  2812335|   1468540|        null|         3|\n",
      "|  01| 昭和|    10|北海道|   1935|null|  3068282|   1593845|        null|         4|\n",
      "|  01| 昭和|    15|北海道|   1940|null|  3272718|   1695600|        null|         5|\n",
      "|  01| 昭和|    20|北海道|   1945|  1)|  3518389|   1738623|        null|         6|\n",
      "|  01| 昭和|    25|北海道|   1950|null|  4295567|   2169393|        null|         7|\n",
      "|  01| 昭和|    30|北海道|   1955|null|  4773087|   2428833|        null|         8|\n",
      "|  01| 昭和|    35|北海道|   1960|  2)|  5039206|   2544753|        null|         9|\n",
      "|  01| 昭和|    40|北海道|   1965|null|  5171800|   2583159|        null|        10|\n",
      "|  01| 昭和|    45|北海道|   1970|null|  5184287|   2552806|        null|        11|\n",
      "|  01| 昭和|    50|北海道|   1975|null|  5338206|   2621285|        null|        12|\n",
      "|  01| 平成|    27|北海道|   2015|null|  5381733|   2537089|        null|        13|\n",
      "|  01| 平成|    22|北海道|   2010|null|  5506419|   2603345|        null|        14|\n",
      "|  01| 昭和|    55|北海道|   1980|null|  5575989|   2737089|        null|        15|\n",
      "|  01| 平成|    17|北海道|   2005|null|  5627737|   2675033|        null|        16|\n",
      "|  01| 平成|     2|北海道|   1990|null|  5643647|   2722988|        null|        17|\n",
      "|  01| 昭和|    60|北海道|   1985|null|  5679439|   2766296|        null|        18|\n",
      "|  01| 平成|    12|北海道|   2000|null|  5683062|   2719389|        null|        19|\n",
      "|  01| 平成|     7|北海道|   1995|null|  5692321|   2736844|        null|        20|\n",
      "|  02| 大正|     9|青森県|   1920|null|   756454|    381293|        null|         1|\n",
      "|  02| 大正|    14|青森県|   1925|null|   812977|    408770|        null|         2|\n",
      "|  02| 昭和|     5|青森県|   1930|null|   879914|    441441|        null|         3|\n",
      "|  02| 昭和|    10|青森県|   1935|null|   967129|    484277|        null|         4|\n",
      "|  02| 昭和|    15|青森県|   1940|null|  1000509|    496614|        null|         5|\n",
      "|  02| 昭和|    20|青森県|   1945|  1)|  1083250|    511798|        null|         6|\n",
      "|  02| 昭和|    25|青森県|   1950|null|  1282867|    635547|        null|         7|\n",
      "|  02| 平成|    27|青森県|   2015|null|  1308265|    614694|        null|         8|\n",
      "|  02| 平成|    22|青森県|   2010|null|  1373339|    646141|        null|         9|\n",
      "|  02| 昭和|    30|青森県|   1955|null|  1382523|    678837|        null|        10|\n",
      "+----+-----+------+------+-------+----+---------+----------+------------+----------+\n",
      "only showing top 50 rows\n",
      "\n"
     ]
    }
   ],
   "source": [
    "from pyspark.sql.window import Window\n",
    "\n",
    "# window 関数\n",
    "# window->{paritionBy(=GroupBy)->(order by) -> rank(順番付け)}\n",
    "# 最後にwindowをoverにいれると結果が出ます\n",
    "\n",
    "window_schema = Window.partitionBy(analysis_df.code).orderBy(analysis_df.sokei.cast(\"Long\").asc())\n",
    "analysis_df.withColumn(\"sokei_rank\",F.rank().over(window_schema)).show(n=50)"
   ]
  },
  {
   "cell_type": "code",
   "execution_count": 38,
   "metadata": {},
   "outputs": [
    {
     "name": "stdout",
     "output_type": "stream",
     "text": [
      "+----+-----+------+------+-------+----+---------+----------+------------+----------+\n",
      "|code|gengo|wareki|kenmei|seireki| chu|    sokei|jinko_male|jinko_femail|sokei_rank|\n",
      "+----+-----+------+------+-------+----+---------+----------+------------+----------+\n",
      "|  00| 大正|     9|  全国|   1920|null| 55963053|  28044185|        null|         1|\n",
      "|  00| 大正|    14|  全国|   1925|null| 59736822|  30013109|        null|         2|\n",
      "|  00| 昭和|     5|  全国|   1930|null| 64450005|  32390155|        null|         3|\n",
      "|  00| 昭和|    10|  全国|   1935|null| 69254148|  34734133|        null|         4|\n",
      "|  00| 昭和|    20|  全国|   1945|  1)| 71998104|  33894059|        null|         5|\n",
      "|  00| 昭和|    15|  全国|   1940|null| 73114308|  36566010|        null|         6|\n",
      "|  00| 昭和|    25|  全国|   1950|null| 84114574|  41241192|        null|         7|\n",
      "|  00| 昭和|    30|  全国|   1955|null| 90076594|  44242657|        null|         8|\n",
      "|  00| 昭和|    35|  全国|   1960|  2)| 94301623|  46300445|        null|         9|\n",
      "|  00| 昭和|    40|  全国|   1965|null| 99209137|  48692138|        null|        10|\n",
      "|  00| 昭和|    45|  全国|   1970|null|104665171|  51369177|        null|        11|\n",
      "|  00| 昭和|    50|  全国|   1975|null|111939643|  55090673|        null|        12|\n",
      "|  00| 昭和|    55|  全国|   1980|null|117060396|  57593769|        null|        13|\n",
      "|  00| 昭和|    60|  全国|   1985|null|121048923|  59497316|        null|        14|\n",
      "|  00| 平成|     2|  全国|   1990|null|123611167|  60696724|        null|        15|\n",
      "|  00| 平成|     7|  全国|   1995|null|125570246|  61574398|        null|        16|\n",
      "|  00| 平成|    12|  全国|   2000|null|126925843|  62110764|        null|        17|\n",
      "|  00| 平成|    27|  全国|   2015|null|127094745|  61841738|        null|        18|\n",
      "|  00| 平成|    17|  全国|   2005|null|127767994|  62348977|        null|        19|\n",
      "|  00| 平成|    22|  全国|   2010|null|128057352|  62327737|        null|        20|\n",
      "|  01| 大正|     9|北海道|   1920|null|  2359183|   1244322|        null|         1|\n",
      "|  01| 大正|    14|北海道|   1925|null|  2498679|   1305473|        null|         2|\n",
      "|  01| 昭和|     5|北海道|   1930|null|  2812335|   1468540|        null|         3|\n",
      "|  01| 昭和|    10|北海道|   1935|null|  3068282|   1593845|        null|         4|\n",
      "|  01| 昭和|    15|北海道|   1940|null|  3272718|   1695600|        null|         5|\n",
      "|  01| 昭和|    20|北海道|   1945|  1)|  3518389|   1738623|        null|         6|\n",
      "|  01| 昭和|    25|北海道|   1950|null|  4295567|   2169393|        null|         7|\n",
      "|  01| 昭和|    30|北海道|   1955|null|  4773087|   2428833|        null|         8|\n",
      "|  01| 昭和|    35|北海道|   1960|  2)|  5039206|   2544753|        null|         9|\n",
      "|  01| 昭和|    40|北海道|   1965|null|  5171800|   2583159|        null|        10|\n",
      "|  01| 昭和|    45|北海道|   1970|null|  5184287|   2552806|        null|        11|\n",
      "|  01| 昭和|    50|北海道|   1975|null|  5338206|   2621285|        null|        12|\n",
      "|  01| 平成|    27|北海道|   2015|null|  5381733|   2537089|        null|        13|\n",
      "|  01| 平成|    22|北海道|   2010|null|  5506419|   2603345|        null|        14|\n",
      "|  01| 昭和|    55|北海道|   1980|null|  5575989|   2737089|        null|        15|\n",
      "|  01| 平成|    17|北海道|   2005|null|  5627737|   2675033|        null|        16|\n",
      "|  01| 平成|     2|北海道|   1990|null|  5643647|   2722988|        null|        17|\n",
      "|  01| 昭和|    60|北海道|   1985|null|  5679439|   2766296|        null|        18|\n",
      "|  01| 平成|    12|北海道|   2000|null|  5683062|   2719389|        null|        19|\n",
      "|  01| 平成|     7|北海道|   1995|null|  5692321|   2736844|        null|        20|\n",
      "|  02| 大正|     9|青森県|   1920|null|   756454|    381293|        null|         1|\n",
      "|  02| 大正|    14|青森県|   1925|null|   812977|    408770|        null|         2|\n",
      "|  02| 昭和|     5|青森県|   1930|null|   879914|    441441|        null|         3|\n",
      "|  02| 昭和|    10|青森県|   1935|null|   967129|    484277|        null|         4|\n",
      "|  02| 昭和|    15|青森県|   1940|null|  1000509|    496614|        null|         5|\n",
      "|  02| 昭和|    20|青森県|   1945|  1)|  1083250|    511798|        null|         6|\n",
      "|  02| 昭和|    25|青森県|   1950|null|  1282867|    635547|        null|         7|\n",
      "|  02| 平成|    27|青森県|   2015|null|  1308265|    614694|        null|         8|\n",
      "|  02| 平成|    22|青森県|   2010|null|  1373339|    646141|        null|         9|\n",
      "|  02| 昭和|    30|青森県|   1955|null|  1382523|    678837|        null|        10|\n",
      "+----+-----+------+------+-------+----+---------+----------+------------+----------+\n",
      "only showing top 50 rows\n",
      "\n"
     ]
    }
   ],
   "source": [
    "# SQLで表現してみましょう\n",
    "\n",
    "spark.sql(\"\"\"\n",
    "select \n",
    "*,\n",
    "RANK() OVER (PARTITION BY code ORDER BY cast(sokei as long) asc) as sokei_rank\n",
    "\n",
    "from super_crush_course.parquet_table_with_no_partition \n",
    "\"\"\").show(n=50)"
   ]
  },
  {
   "cell_type": "markdown",
   "metadata": {},
   "source": [
    "# LAG/LEAD関数\n",
    "Lagというのはひとつ前のレコード\n",
    "LEADというのは一つ先のレコード\n",
    "\n",
    "前日比とか前年比といった様に前後のレコードを比較することによって意味をなす値を出したいときに使います。\n",
    "\n",
    "今回は、先ほど並び替えたデータを使って、どれくらい人口が増えていったのか確認してみましょう。"
   ]
  },
  {
   "cell_type": "code",
   "execution_count": 39,
   "metadata": {},
   "outputs": [
    {
     "name": "stdout",
     "output_type": "stream",
     "text": [
      "+----+-----+------+------+-------+----+---------+----------+------------+---------+\n",
      "|code|gengo|wareki|kenmei|seireki| chu|    sokei|jinko_male|jinko_femail|sokei_per|\n",
      "+----+-----+------+------+-------+----+---------+----------+------------+---------+\n",
      "|  00| 大正|     9|  全国|   1920|null| 55963053|  28044185|        null|     null|\n",
      "|  00| 大正|    14|  全国|   1925|null| 59736822|  30013109|        null| 55963053|\n",
      "|  00| 昭和|     5|  全国|   1930|null| 64450005|  32390155|        null| 59736822|\n",
      "|  00| 昭和|    10|  全国|   1935|null| 69254148|  34734133|        null| 64450005|\n",
      "|  00| 昭和|    20|  全国|   1945|  1)| 71998104|  33894059|        null| 69254148|\n",
      "|  00| 昭和|    15|  全国|   1940|null| 73114308|  36566010|        null| 71998104|\n",
      "|  00| 昭和|    25|  全国|   1950|null| 84114574|  41241192|        null| 73114308|\n",
      "|  00| 昭和|    30|  全国|   1955|null| 90076594|  44242657|        null| 84114574|\n",
      "|  00| 昭和|    35|  全国|   1960|  2)| 94301623|  46300445|        null| 90076594|\n",
      "|  00| 昭和|    40|  全国|   1965|null| 99209137|  48692138|        null| 94301623|\n",
      "|  00| 昭和|    45|  全国|   1970|null|104665171|  51369177|        null| 99209137|\n",
      "|  00| 昭和|    50|  全国|   1975|null|111939643|  55090673|        null|104665171|\n",
      "|  00| 昭和|    55|  全国|   1980|null|117060396|  57593769|        null|111939643|\n",
      "|  00| 昭和|    60|  全国|   1985|null|121048923|  59497316|        null|117060396|\n",
      "|  00| 平成|     2|  全国|   1990|null|123611167|  60696724|        null|121048923|\n",
      "|  00| 平成|     7|  全国|   1995|null|125570246|  61574398|        null|123611167|\n",
      "|  00| 平成|    12|  全国|   2000|null|126925843|  62110764|        null|125570246|\n",
      "|  00| 平成|    27|  全国|   2015|null|127094745|  61841738|        null|126925843|\n",
      "|  00| 平成|    17|  全国|   2005|null|127767994|  62348977|        null|127094745|\n",
      "|  00| 平成|    22|  全国|   2010|null|128057352|  62327737|        null|127767994|\n",
      "|  01| 大正|     9|北海道|   1920|null|  2359183|   1244322|        null|     null|\n",
      "|  01| 大正|    14|北海道|   1925|null|  2498679|   1305473|        null|  2359183|\n",
      "|  01| 昭和|     5|北海道|   1930|null|  2812335|   1468540|        null|  2498679|\n",
      "|  01| 昭和|    10|北海道|   1935|null|  3068282|   1593845|        null|  2812335|\n",
      "|  01| 昭和|    15|北海道|   1940|null|  3272718|   1695600|        null|  3068282|\n",
      "|  01| 昭和|    20|北海道|   1945|  1)|  3518389|   1738623|        null|  3272718|\n",
      "|  01| 昭和|    25|北海道|   1950|null|  4295567|   2169393|        null|  3518389|\n",
      "|  01| 昭和|    30|北海道|   1955|null|  4773087|   2428833|        null|  4295567|\n",
      "|  01| 昭和|    35|北海道|   1960|  2)|  5039206|   2544753|        null|  4773087|\n",
      "|  01| 昭和|    40|北海道|   1965|null|  5171800|   2583159|        null|  5039206|\n",
      "|  01| 昭和|    45|北海道|   1970|null|  5184287|   2552806|        null|  5171800|\n",
      "|  01| 昭和|    50|北海道|   1975|null|  5338206|   2621285|        null|  5184287|\n",
      "|  01| 平成|    27|北海道|   2015|null|  5381733|   2537089|        null|  5338206|\n",
      "|  01| 平成|    22|北海道|   2010|null|  5506419|   2603345|        null|  5381733|\n",
      "|  01| 昭和|    55|北海道|   1980|null|  5575989|   2737089|        null|  5506419|\n",
      "|  01| 平成|    17|北海道|   2005|null|  5627737|   2675033|        null|  5575989|\n",
      "|  01| 平成|     2|北海道|   1990|null|  5643647|   2722988|        null|  5627737|\n",
      "|  01| 昭和|    60|北海道|   1985|null|  5679439|   2766296|        null|  5643647|\n",
      "|  01| 平成|    12|北海道|   2000|null|  5683062|   2719389|        null|  5679439|\n",
      "|  01| 平成|     7|北海道|   1995|null|  5692321|   2736844|        null|  5683062|\n",
      "|  02| 大正|     9|青森県|   1920|null|   756454|    381293|        null|     null|\n",
      "|  02| 大正|    14|青森県|   1925|null|   812977|    408770|        null|   756454|\n",
      "|  02| 昭和|     5|青森県|   1930|null|   879914|    441441|        null|   812977|\n",
      "|  02| 昭和|    10|青森県|   1935|null|   967129|    484277|        null|   879914|\n",
      "|  02| 昭和|    15|青森県|   1940|null|  1000509|    496614|        null|   967129|\n",
      "|  02| 昭和|    20|青森県|   1945|  1)|  1083250|    511798|        null|  1000509|\n",
      "|  02| 昭和|    25|青森県|   1950|null|  1282867|    635547|        null|  1083250|\n",
      "|  02| 平成|    27|青森県|   2015|null|  1308265|    614694|        null|  1282867|\n",
      "|  02| 平成|    22|青森県|   2010|null|  1373339|    646141|        null|  1308265|\n",
      "|  02| 昭和|    30|青森県|   1955|null|  1382523|    678837|        null|  1373339|\n",
      "+----+-----+------+------+-------+----+---------+----------+------------+---------+\n",
      "only showing top 50 rows\n",
      "\n"
     ]
    }
   ],
   "source": [
    "from pyspark.sql.window import Window\n",
    "\n",
    "# window 関数\n",
    "# window->{paritionBy(=GroupBy)->(order by) -> rank(順番付け)}\n",
    "# 最後にwindowをoverにいれると結果が出ます\n",
    "\n",
    "window_schema = Window.partitionBy(analysis_df.code).orderBy(analysis_df.sokei.cast(\"Long\").asc())\n",
    "\n",
    "analysis_df.withColumn(\"sokei_per\",F.lag(\"sokei\",1).over(window_schema)).show(n=50)\n",
    "percent=analysis_df.withColumn(\"sokei_per\",F.lag(\"sokei\",1).over(window_schema))"
   ]
  },
  {
   "cell_type": "code",
   "execution_count": 40,
   "metadata": {},
   "outputs": [
    {
     "name": "stdout",
     "output_type": "stream",
     "text": [
      "+----+-----+------+------+-------+----+---------+----------+------------+---------+------------------+\n",
      "|code|gengo|wareki|kenmei|seireki| chu|    sokei|jinko_male|jinko_femail|sokei_per|           percent|\n",
      "+----+-----+------+------+-------+----+---------+----------+------------+---------+------------------+\n",
      "|  00| 大正|     9|  全国|   1920|null| 55963053|  28044185|        null|     null|              null|\n",
      "|  00| 大正|    14|  全国|   1925|null| 59736822|  30013109|        null| 55963053|1.0674332224155105|\n",
      "|  00| 昭和|     5|  全国|   1930|null| 64450005|  32390155|        null| 59736822|1.0788991252330096|\n",
      "|  00| 昭和|    10|  全国|   1935|null| 69254148|  34734133|        null| 64450005| 1.074540614853327|\n",
      "|  00| 昭和|    20|  全国|   1945|  1)| 71998104|  33894059|        null| 69254148| 1.039621540070062|\n",
      "|  00| 昭和|    15|  全国|   1940|null| 73114308|  36566010|        null| 71998104|1.0155032415853618|\n",
      "|  00| 昭和|    25|  全国|   1950|null| 84114574|  41241192|        null| 73114308|1.1504529865754867|\n",
      "|  00| 昭和|    30|  全国|   1955|null| 90076594|  44242657|        null| 84114574|1.0708797502796603|\n",
      "|  00| 昭和|    35|  全国|   1960|  2)| 94301623|  46300445|        null| 90076594|1.0469048485558856|\n",
      "|  00| 昭和|    40|  全国|   1965|null| 99209137|  48692138|        null| 94301623|1.0520406101600182|\n",
      "|  00| 昭和|    45|  全国|   1970|null|104665171|  51369177|        null| 99209137|1.0549952772999125|\n",
      "|  00| 昭和|    50|  全国|   1975|null|111939643|  55090673|        null|104665171| 1.069502318015608|\n",
      "|  00| 昭和|    55|  全国|   1980|null|117060396|  57593769|        null|111939643|  1.04574566134716|\n",
      "|  00| 昭和|    60|  全国|   1985|null|121048923|  59497316|        null|117060396|1.0340723860185814|\n",
      "|  00| 平成|     2|  全国|   1990|null|123611167|  60696724|        null|121048923|1.0211670119526797|\n",
      "|  00| 平成|     7|  全国|   1995|null|125570246|  61574398|        null|123611167|1.0158487218230048|\n",
      "|  00| 平成|    12|  全国|   2000|null|126925843|  62110764|        null|125570246| 1.010795527150596|\n",
      "|  00| 平成|    27|  全国|   2015|null|127094745|  61841738|        null|126925843|1.0013307140296086|\n",
      "|  00| 平成|    17|  全国|   2005|null|127767994|  62348977|        null|127094745|1.0052972213760687|\n",
      "|  00| 平成|    22|  全国|   2010|null|128057352|  62327737|        null|127767994|1.0022647142757832|\n",
      "+----+-----+------+------+-------+----+---------+----------+------------+---------+------------------+\n",
      "only showing top 20 rows\n",
      "\n"
     ]
    }
   ],
   "source": [
    "# 順番が上がるごとにどれだけ増えていったかみていきましょう\n",
    "\n",
    "percent.withColumn(\"percent\",percent.sokei/percent.sokei_per).show()"
   ]
  },
  {
   "cell_type": "code",
   "execution_count": 41,
   "metadata": {},
   "outputs": [
    {
     "name": "stdout",
     "output_type": "stream",
     "text": [
      "+----+-----+------+------+-------+----+---------+----------+------------+------------------+\n",
      "|code|gengo|wareki|kenmei|seireki| chu|    sokei|jinko_male|jinko_femail|        sokei_rank|\n",
      "+----+-----+------+------+-------+----+---------+----------+------------+------------------+\n",
      "|  00| 大正|     9|  全国|   1920|null| 55963053|  28044185|        null|              null|\n",
      "|  00| 大正|    14|  全国|   1925|null| 59736822|  30013109|        null|1.0674332224155105|\n",
      "|  00| 昭和|     5|  全国|   1930|null| 64450005|  32390155|        null|1.0788991252330096|\n",
      "|  00| 昭和|    10|  全国|   1935|null| 69254148|  34734133|        null| 1.074540614853327|\n",
      "|  00| 昭和|    20|  全国|   1945|  1)| 71998104|  33894059|        null| 1.039621540070062|\n",
      "|  00| 昭和|    15|  全国|   1940|null| 73114308|  36566010|        null|1.0155032415853618|\n",
      "|  00| 昭和|    25|  全国|   1950|null| 84114574|  41241192|        null|1.1504529865754867|\n",
      "|  00| 昭和|    30|  全国|   1955|null| 90076594|  44242657|        null|1.0708797502796603|\n",
      "|  00| 昭和|    35|  全国|   1960|  2)| 94301623|  46300445|        null|1.0469048485558856|\n",
      "|  00| 昭和|    40|  全国|   1965|null| 99209137|  48692138|        null|1.0520406101600182|\n",
      "|  00| 昭和|    45|  全国|   1970|null|104665171|  51369177|        null|1.0549952772999125|\n",
      "|  00| 昭和|    50|  全国|   1975|null|111939643|  55090673|        null| 1.069502318015608|\n",
      "|  00| 昭和|    55|  全国|   1980|null|117060396|  57593769|        null|  1.04574566134716|\n",
      "|  00| 昭和|    60|  全国|   1985|null|121048923|  59497316|        null|1.0340723860185814|\n",
      "|  00| 平成|     2|  全国|   1990|null|123611167|  60696724|        null|1.0211670119526797|\n",
      "|  00| 平成|     7|  全国|   1995|null|125570246|  61574398|        null|1.0158487218230048|\n",
      "|  00| 平成|    12|  全国|   2000|null|126925843|  62110764|        null| 1.010795527150596|\n",
      "|  00| 平成|    27|  全国|   2015|null|127094745|  61841738|        null|1.0013307140296086|\n",
      "|  00| 平成|    17|  全国|   2005|null|127767994|  62348977|        null|1.0052972213760687|\n",
      "|  00| 平成|    22|  全国|   2010|null|128057352|  62327737|        null|1.0022647142757832|\n",
      "|  01| 大正|     9|北海道|   1920|null|  2359183|   1244322|        null|              null|\n",
      "|  01| 大正|    14|北海道|   1925|null|  2498679|   1305473|        null|  1.05912894421501|\n",
      "|  01| 昭和|     5|北海道|   1930|null|  2812335|   1468540|        null|1.1255287293806047|\n",
      "|  01| 昭和|    10|北海道|   1935|null|  3068282|   1593845|        null|1.0910087169558391|\n",
      "|  01| 昭和|    15|北海道|   1940|null|  3272718|   1695600|        null|1.0666288170383296|\n",
      "|  01| 昭和|    20|北海道|   1945|  1)|  3518389|   1738623|        null| 1.075066351576885|\n",
      "|  01| 昭和|    25|北海道|   1950|null|  4295567|   2169393|        null|1.2208902995092357|\n",
      "|  01| 昭和|    30|北海道|   1955|null|  4773087|   2428833|        null|1.1111657669406623|\n",
      "|  01| 昭和|    35|北海道|   1960|  2)|  5039206|   2544753|        null| 1.055754064403184|\n",
      "|  01| 昭和|    40|北海道|   1965|null|  5171800|   2583159|        null|1.0263124785928577|\n",
      "|  01| 昭和|    45|北海道|   1970|null|  5184287|   2552806|        null|1.0024144398468617|\n",
      "|  01| 昭和|    50|北海道|   1975|null|  5338206|   2621285|        null|1.0296895214327448|\n",
      "|  01| 平成|    27|北海道|   2015|null|  5381733|   2537089|        null|1.0081538629269833|\n",
      "|  01| 平成|    22|北海道|   2010|null|  5506419|   2603345|        null| 1.023168373458884|\n",
      "|  01| 昭和|    55|北海道|   1980|null|  5575989|   2737089|        null|1.0126343454793396|\n",
      "|  01| 平成|    17|北海道|   2005|null|  5627737|   2675033|        null|1.0092805061129067|\n",
      "|  01| 平成|     2|北海道|   1990|null|  5643647|   2722988|        null|1.0028270688555632|\n",
      "|  01| 昭和|    60|北海道|   1985|null|  5679439|   2766296|        null|1.0063419983567363|\n",
      "|  01| 平成|    12|北海道|   2000|null|  5683062|   2719389|        null| 1.000637915118025|\n",
      "|  01| 平成|     7|北海道|   1995|null|  5692321|   2736844|        null| 1.001629227342584|\n",
      "|  02| 大正|     9|青森県|   1920|null|   756454|    381293|        null|              null|\n",
      "|  02| 大正|    14|青森県|   1925|null|   812977|    408770|        null|1.0747210008804238|\n",
      "|  02| 昭和|     5|青森県|   1930|null|   879914|    441441|        null|1.0823356626325222|\n",
      "|  02| 昭和|    10|青森県|   1935|null|   967129|    484277|        null|1.0991176410421928|\n",
      "|  02| 昭和|    15|青森県|   1940|null|  1000509|    496614|        null|1.0345145270175953|\n",
      "|  02| 昭和|    20|青森県|   1945|  1)|  1083250|    511798|        null|1.0826989062567154|\n",
      "|  02| 昭和|    25|青森県|   1950|null|  1282867|    635547|        null|1.1842760212324024|\n",
      "|  02| 平成|    27|青森県|   2015|null|  1308265|    614694|        null| 1.019797843424143|\n",
      "|  02| 平成|    22|青森県|   2010|null|  1373339|    646141|        null|1.0497406870932113|\n",
      "|  02| 昭和|    30|青森県|   1955|null|  1382523|    678837|        null| 1.006687351047338|\n",
      "+----+-----+------+------+-------+----+---------+----------+------------+------------------+\n",
      "only showing top 50 rows\n",
      "\n"
     ]
    }
   ],
   "source": [
    "# SQLで表現してみましょう\n",
    "\n",
    "spark.sql(\"\"\"\n",
    "\n",
    "select \n",
    "*,\n",
    "sokei / LAG(sokei,1) OVER (PARTITION BY code ORDER BY cast(sokei as long) asc)  as sokei_rank\n",
    "from super_crush_course.parquet_table_with_no_partition\n",
    "\n",
    "\"\"\").show(n=50)"
   ]
  },
  {
   "cell_type": "markdown",
   "metadata": {},
   "source": [
    "# ピボットテーブル(と転置(transpose))\n",
    "ピボットテーブルは簡単にいうとテーブル内の項目をまとめて処理(合計、平均)することです。\n",
    "\n",
    "一般にデータベースに格納されたテーブルは\n",
    "\n",
    "- コーヒ　1 100 2022/11/11\n",
    "- コーヒ　1 100 2022/11/12\n",
    "\n",
    "といった様にレコード単位で格納されています。\n",
    "それらのデータを集計して表現してくれるものがピボットテーブル\n",
    "\n",
    "GroupByしたりすればできるのでは？\n",
    "と思われるかもしれませんが、pivotテーブルは集計のグループをヘッダーとして持つことができます。\n",
    "※うまくいえなかったので実際に見てみましょう。\n",
    "\n",
    "transposeについては次のチャプターにて紹介を行います。"
   ]
  },
  {
   "cell_type": "code",
   "execution_count": 42,
   "metadata": {},
   "outputs": [
    {
     "name": "stdout",
     "output_type": "stream",
     "text": [
      "+----------------------+----+-------+--------+--------+\n",
      "|                kenmei|null|   大正|    平成|    昭和|\n",
      "+----------------------+----+-------+--------+--------+\n",
      "|人口集中地区以外の地区|null|   null|45458715|48668286|\n",
      "|                佐賀県|null| 684831|  884316|  973749|\n",
      "|                栃木県|null|1090428| 2016631| 1866066|\n",
      "|                京都府|null|1406382| 2647660| 2586574|\n",
      "|                香川県|null| 700308| 1027006| 1022569|\n",
      "|                愛媛県|null|1096366| 1515025| 1540628|\n",
      "|                秋田県|null| 936408| 1227478| 1348871|\n",
      "|                広島県|null|1617680| 2881748| 2819200|\n",
      "|                  null|null|   null|    null|    null|\n",
      "|                宮崎県|null| 691094| 1175819| 1175543|\n",
      "|              鹿児島県|null|1472193| 1797824| 2044112|\n",
      "|                埼玉県|null|1394461| 7266534| 5863678|\n",
      "|                三重県|null|1107692| 1866963| 1747311|\n",
      "|                島根県|null| 722402|  781021|  929066|\n",
      "|                徳島県|null| 689814|  832427|  878511|\n",
      "|                岐阜県|null|1132557| 2107700| 2028536|\n",
      "|                新潟県|null|1849807| 2488364| 2478470|\n",
      "|                山形県|null|1027297| 1258390| 1357347|\n",
      "|              神奈川県|null|1416792| 9126214| 7431974|\n",
      "|                群馬県|null|1118858| 2024852| 1921259|\n",
      "+----------------------+----+-------+--------+--------+\n",
      "only showing top 20 rows\n",
      "\n"
     ]
    }
   ],
   "source": [
    "# 各元号の中で一番sokeiが多かったものを取り出している\n",
    "analysis_df.withColumn(\"sokei\",analysis_df.sokei.cast(\"long\")).groupBy(analysis_df.kenmei).pivot(\"gengo\").max(\"sokei\").show()"
   ]
  },
  {
   "cell_type": "markdown",
   "metadata": {},
   "source": [
    "# データフレーム限定 RDDによる一行づつの操作\n",
    "\n",
    "出番がある様な、無い様な操作ですが一つSparkの特徴であるRDD(低レベル操作)についてみていきましょう。  \n",
    "Sparkは全てのDataFrameは実行されるときにRDDに変換されて実行されます(そのときに最適なRDD操作に変換してくれる)。\n",
    "\n",
    "あまり普段RDDを意識することなく操作を可能です。\n",
    "\n",
    "一応RDDでの操作も見ておきましょう。\n",
    "\n",
    "RDDに変換すると、mapとかlambdaなどPythonの関数が適用になりますが、最適化をやってくれなくなるのであまりおすすめはできないです。"
   ]
  },
  {
   "cell_type": "code",
   "execution_count": 43,
   "metadata": {},
   "outputs": [
    {
     "data": {
      "text/plain": [
       "1960"
      ]
     },
     "execution_count": 43,
     "metadata": {},
     "output_type": "execute_result"
    }
   ],
   "source": [
    "rdds=json_df.rdd.map(lambda x: len(x.code))\n",
    "rdds.take(10)\n",
    "\n",
    "rdds.reduce(lambda a,b: a+b)"
   ]
  },
  {
   "cell_type": "code",
   "execution_count": 44,
   "metadata": {},
   "outputs": [
    {
     "name": "stderr",
     "output_type": "stream",
     "text": [
      "Fri Jan 07 05:31:19 UTC 2022 WARN: Establishing SSL connection without server's identity verification is not recommended. According to MySQL 5.5.45+, 5.6.26+ and 5.7.6+ requirements SSL connection must be established by default if explicit option isn't set. For compliance with existing applications not using SSL the verifyServerCertificate property is set to 'false'. You need either to explicitly disable SSL by setting useSSL=false, or set useSSL=true and provide truststore for server certificate verification.\n",
      "Fri Jan 07 05:31:20 UTC 2022 WARN: Establishing SSL connection without server's identity verification is not recommended. According to MySQL 5.5.45+, 5.6.26+ and 5.7.6+ requirements SSL connection must be established by default if explicit option isn't set. For compliance with existing applications not using SSL the verifyServerCertificate property is set to 'false'. You need either to explicitly disable SSL by setting useSSL=false, or set useSSL=true and provide truststore for server certificate verification.\n",
      "Fri Jan 07 05:46:03 UTC 2022 WARN: Establishing SSL connection without server's identity verification is not recommended. According to MySQL 5.5.45+, 5.6.26+ and 5.7.6+ requirements SSL connection must be established by default if explicit option isn't set. For compliance with existing applications not using SSL the verifyServerCertificate property is set to 'false'. You need either to explicitly disable SSL by setting useSSL=false, or set useSSL=true and provide truststore for server certificate verification.\n",
      "Fri Jan 07 05:46:03 UTC 2022 WARN: Establishing SSL connection without server's identity verification is not recommended. According to MySQL 5.5.45+, 5.6.26+ and 5.7.6+ requirements SSL connection must be established by default if explicit option isn't set. For compliance with existing applications not using SSL the verifyServerCertificate property is set to 'false'. You need either to explicitly disable SSL by setting useSSL=false, or set useSSL=true and provide truststore for server certificate verification.\n",
      "Fri Jan 07 06:31:20 UTC 2022 WARN: Establishing SSL connection without server's identity verification is not recommended. According to MySQL 5.5.45+, 5.6.26+ and 5.7.6+ requirements SSL connection must be established by default if explicit option isn't set. For compliance with existing applications not using SSL the verifyServerCertificate property is set to 'false'. You need either to explicitly disable SSL by setting useSSL=false, or set useSSL=true and provide truststore for server certificate verification.\n",
      "Fri Jan 07 06:31:20 UTC 2022 WARN: Establishing SSL connection without server's identity verification is not recommended. According to MySQL 5.5.45+, 5.6.26+ and 5.7.6+ requirements SSL connection must be established by default if explicit option isn't set. For compliance with existing applications not using SSL the verifyServerCertificate property is set to 'false'. You need either to explicitly disable SSL by setting useSSL=false, or set useSSL=true and provide truststore for server certificate verification.\n",
      "Fri Jan 07 06:46:03 UTC 2022 WARN: Establishing SSL connection without server's identity verification is not recommended. According to MySQL 5.5.45+, 5.6.26+ and 5.7.6+ requirements SSL connection must be established by default if explicit option isn't set. For compliance with existing applications not using SSL the verifyServerCertificate property is set to 'false'. You need either to explicitly disable SSL by setting useSSL=false, or set useSSL=true and provide truststore for server certificate verification.\n",
      "Fri Jan 07 06:46:03 UTC 2022 WARN: Establishing SSL connection without server's identity verification is not recommended. According to MySQL 5.5.45+, 5.6.26+ and 5.7.6+ requirements SSL connection must be established by default if explicit option isn't set. For compliance with existing applications not using SSL the verifyServerCertificate property is set to 'false'. You need either to explicitly disable SSL by setting useSSL=false, or set useSSL=true and provide truststore for server certificate verification.\n",
      "Fri Jan 07 07:31:20 UTC 2022 WARN: Establishing SSL connection without server's identity verification is not recommended. According to MySQL 5.5.45+, 5.6.26+ and 5.7.6+ requirements SSL connection must be established by default if explicit option isn't set. For compliance with existing applications not using SSL the verifyServerCertificate property is set to 'false'. You need either to explicitly disable SSL by setting useSSL=false, or set useSSL=true and provide truststore for server certificate verification.\n",
      "Fri Jan 07 07:31:20 UTC 2022 WARN: Establishing SSL connection without server's identity verification is not recommended. According to MySQL 5.5.45+, 5.6.26+ and 5.7.6+ requirements SSL connection must be established by default if explicit option isn't set. For compliance with existing applications not using SSL the verifyServerCertificate property is set to 'false'. You need either to explicitly disable SSL by setting useSSL=false, or set useSSL=true and provide truststore for server certificate verification.\n",
      "Fri Jan 07 07:46:03 UTC 2022 WARN: Establishing SSL connection without server's identity verification is not recommended. According to MySQL 5.5.45+, 5.6.26+ and 5.7.6+ requirements SSL connection must be established by default if explicit option isn't set. For compliance with existing applications not using SSL the verifyServerCertificate property is set to 'false'. You need either to explicitly disable SSL by setting useSSL=false, or set useSSL=true and provide truststore for server certificate verification.\n",
      "Fri Jan 07 07:46:03 UTC 2022 WARN: Establishing SSL connection without server's identity verification is not recommended. According to MySQL 5.5.45+, 5.6.26+ and 5.7.6+ requirements SSL connection must be established by default if explicit option isn't set. For compliance with existing applications not using SSL the verifyServerCertificate property is set to 'false'. You need either to explicitly disable SSL by setting useSSL=false, or set useSSL=true and provide truststore for server certificate verification.\n",
      "Fri Jan 07 08:31:20 UTC 2022 WARN: Establishing SSL connection without server's identity verification is not recommended. According to MySQL 5.5.45+, 5.6.26+ and 5.7.6+ requirements SSL connection must be established by default if explicit option isn't set. For compliance with existing applications not using SSL the verifyServerCertificate property is set to 'false'. You need either to explicitly disable SSL by setting useSSL=false, or set useSSL=true and provide truststore for server certificate verification.\n",
      "Fri Jan 07 08:31:20 UTC 2022 WARN: Establishing SSL connection without server's identity verification is not recommended. According to MySQL 5.5.45+, 5.6.26+ and 5.7.6+ requirements SSL connection must be established by default if explicit option isn't set. For compliance with existing applications not using SSL the verifyServerCertificate property is set to 'false'. You need either to explicitly disable SSL by setting useSSL=false, or set useSSL=true and provide truststore for server certificate verification.\n",
      "Fri Jan 07 08:46:03 UTC 2022 WARN: Establishing SSL connection without server's identity verification is not recommended. According to MySQL 5.5.45+, 5.6.26+ and 5.7.6+ requirements SSL connection must be established by default if explicit option isn't set. For compliance with existing applications not using SSL the verifyServerCertificate property is set to 'false'. You need either to explicitly disable SSL by setting useSSL=false, or set useSSL=true and provide truststore for server certificate verification.\n",
      "Fri Jan 07 08:46:03 UTC 2022 WARN: Establishing SSL connection without server's identity verification is not recommended. According to MySQL 5.5.45+, 5.6.26+ and 5.7.6+ requirements SSL connection must be established by default if explicit option isn't set. For compliance with existing applications not using SSL the verifyServerCertificate property is set to 'false'. You need either to explicitly disable SSL by setting useSSL=false, or set useSSL=true and provide truststore for server certificate verification.\n",
      "Fri Jan 07 09:31:21 UTC 2022 WARN: Establishing SSL connection without server's identity verification is not recommended. According to MySQL 5.5.45+, 5.6.26+ and 5.7.6+ requirements SSL connection must be established by default if explicit option isn't set. For compliance with existing applications not using SSL the verifyServerCertificate property is set to 'false'. You need either to explicitly disable SSL by setting useSSL=false, or set useSSL=true and provide truststore for server certificate verification.\n",
      "Fri Jan 07 09:31:21 UTC 2022 WARN: Establishing SSL connection without server's identity verification is not recommended. According to MySQL 5.5.45+, 5.6.26+ and 5.7.6+ requirements SSL connection must be established by default if explicit option isn't set. For compliance with existing applications not using SSL the verifyServerCertificate property is set to 'false'. You need either to explicitly disable SSL by setting useSSL=false, or set useSSL=true and provide truststore for server certificate verification.\n",
      "Fri Jan 07 09:46:03 UTC 2022 WARN: Establishing SSL connection without server's identity verification is not recommended. According to MySQL 5.5.45+, 5.6.26+ and 5.7.6+ requirements SSL connection must be established by default if explicit option isn't set. For compliance with existing applications not using SSL the verifyServerCertificate property is set to 'false'. You need either to explicitly disable SSL by setting useSSL=false, or set useSSL=true and provide truststore for server certificate verification.\n",
      "Fri Jan 07 09:46:03 UTC 2022 WARN: Establishing SSL connection without server's identity verification is not recommended. According to MySQL 5.5.45+, 5.6.26+ and 5.7.6+ requirements SSL connection must be established by default if explicit option isn't set. For compliance with existing applications not using SSL the verifyServerCertificate property is set to 'false'. You need either to explicitly disable SSL by setting useSSL=false, or set useSSL=true and provide truststore for server certificate verification.\n",
      "Fri Jan 07 10:31:21 UTC 2022 WARN: Establishing SSL connection without server's identity verification is not recommended. According to MySQL 5.5.45+, 5.6.26+ and 5.7.6+ requirements SSL connection must be established by default if explicit option isn't set. For compliance with existing applications not using SSL the verifyServerCertificate property is set to 'false'. You need either to explicitly disable SSL by setting useSSL=false, or set useSSL=true and provide truststore for server certificate verification.\n",
      "Fri Jan 07 10:31:21 UTC 2022 WARN: Establishing SSL connection without server's identity verification is not recommended. According to MySQL 5.5.45+, 5.6.26+ and 5.7.6+ requirements SSL connection must be established by default if explicit option isn't set. For compliance with existing applications not using SSL the verifyServerCertificate property is set to 'false'. You need either to explicitly disable SSL by setting useSSL=false, or set useSSL=true and provide truststore for server certificate verification.\n",
      "Fri Jan 07 10:46:03 UTC 2022 WARN: Establishing SSL connection without server's identity verification is not recommended. According to MySQL 5.5.45+, 5.6.26+ and 5.7.6+ requirements SSL connection must be established by default if explicit option isn't set. For compliance with existing applications not using SSL the verifyServerCertificate property is set to 'false'. You need either to explicitly disable SSL by setting useSSL=false, or set useSSL=true and provide truststore for server certificate verification.\n",
      "Fri Jan 07 10:46:03 UTC 2022 WARN: Establishing SSL connection without server's identity verification is not recommended. According to MySQL 5.5.45+, 5.6.26+ and 5.7.6+ requirements SSL connection must be established by default if explicit option isn't set. For compliance with existing applications not using SSL the verifyServerCertificate property is set to 'false'. You need either to explicitly disable SSL by setting useSSL=false, or set useSSL=true and provide truststore for server certificate verification.\n",
      "Fri Jan 07 11:31:21 UTC 2022 WARN: Establishing SSL connection without server's identity verification is not recommended. According to MySQL 5.5.45+, 5.6.26+ and 5.7.6+ requirements SSL connection must be established by default if explicit option isn't set. For compliance with existing applications not using SSL the verifyServerCertificate property is set to 'false'. You need either to explicitly disable SSL by setting useSSL=false, or set useSSL=true and provide truststore for server certificate verification.\n",
      "Fri Jan 07 11:31:21 UTC 2022 WARN: Establishing SSL connection without server's identity verification is not recommended. According to MySQL 5.5.45+, 5.6.26+ and 5.7.6+ requirements SSL connection must be established by default if explicit option isn't set. For compliance with existing applications not using SSL the verifyServerCertificate property is set to 'false'. You need either to explicitly disable SSL by setting useSSL=false, or set useSSL=true and provide truststore for server certificate verification.\n",
      "Fri Jan 07 11:46:03 UTC 2022 WARN: Establishing SSL connection without server's identity verification is not recommended. According to MySQL 5.5.45+, 5.6.26+ and 5.7.6+ requirements SSL connection must be established by default if explicit option isn't set. For compliance with existing applications not using SSL the verifyServerCertificate property is set to 'false'. You need either to explicitly disable SSL by setting useSSL=false, or set useSSL=true and provide truststore for server certificate verification.\n",
      "Fri Jan 07 11:46:03 UTC 2022 WARN: Establishing SSL connection without server's identity verification is not recommended. According to MySQL 5.5.45+, 5.6.26+ and 5.7.6+ requirements SSL connection must be established by default if explicit option isn't set. For compliance with existing applications not using SSL the verifyServerCertificate property is set to 'false'. You need either to explicitly disable SSL by setting useSSL=false, or set useSSL=true and provide truststore for server certificate verification.\n"
     ]
    }
   ],
   "source": [
    "spark.stop()"
   ]
  }
 ],
 "metadata": {
  "interpreter": {
   "hash": "578f5f657c2fb65ecadb997ad60e5cf2da380ecec34305a6dd913dc5b96e257c"
  },
  "kernelspec": {
   "display_name": "Python 3.9.1 64-bit ('3.9.1': pyenv)",
   "language": "python",
   "name": "python3"
  },
  "language_info": {
   "codemirror_mode": {
    "name": "ipython",
    "version": 3
   },
   "file_extension": ".py",
   "mimetype": "text/x-python",
   "name": "python",
   "nbconvert_exporter": "python",
   "pygments_lexer": "ipython3",
   "version": "3.9.1"
  },
  "orig_nbformat": 4
 },
 "nbformat": 4,
 "nbformat_minor": 2
}
